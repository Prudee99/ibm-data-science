{
 "cells": [
  {
   "cell_type": "markdown",
   "id": "39aeb60d-502c-4e6d-99a9-a7d651cd1f00",
   "metadata": {},
   "source": [
    "# Data Science Tools and Ecosystem"
   ]
  },
  {
   "cell_type": "markdown",
   "id": "b531b896-c284-48b0-848d-6b59ec898b05",
   "metadata": {},
   "source": [
    "### In this notebook, Data Science Tools and Ecosystem are summarized."
   ]
  },
  {
   "cell_type": "markdown",
   "id": "f2899f69-5e97-4c9e-9d18-789b22b4954a",
   "metadata": {
    "tags": []
   },
   "source": [
    "**Objectives:**\n",
    "\n",
    "- Understand basic arithmetic operations in Python.\n",
    "- List popular languages for Data Science.\n",
    "- Demonstrate the use of Markdown in Jupyter notebooks.\n",
    "- Visualize data using plotting libraries like Matplotlib or Seaborn."
   ]
  },
  {
   "cell_type": "markdown",
   "id": "0326027a-d0a1-46a2-a939-27eed774238f",
   "metadata": {},
   "source": [
    "Some of the popular languages that Data Scientists use are:\n",
    "1. Python \n",
    "2. R\n",
    "3. SQL"
   ]
  },
  {
   "cell_type": "markdown",
   "id": "86fec8cd-a958-4c01-8d2e-c004c32a3355",
   "metadata": {},
   "source": [
    "Some of the commonly used libraries used by Data Scientists include:\n",
    "1. Pandas\n",
    "2. Numpy\n",
    "3. Matplotlib"
   ]
  },
  {
   "cell_type": "markdown",
   "id": "0661d028-f453-4720-a719-689bba9472c4",
   "metadata": {},
   "source": [
    "| Data Science Tools          |\n",
    "|-----------------------------|\n",
    "| Jupyter Notebook            |\n",
    "| RStudio                     |\n",
    "| Apache Spark                |\n"
   ]
  },
  {
   "cell_type": "markdown",
   "id": "462af757-494d-4eec-935e-3b8cfe224ba8",
   "metadata": {},
   "source": [
    "### Below are a few examples of evaluating arithmetic expressions in Python.\n"
   ]
  },
  {
   "cell_type": "code",
   "execution_count": 1,
   "id": "fe074529-0e10-4971-9823-7713f40d31c3",
   "metadata": {
    "tags": []
   },
   "outputs": [
    {
     "data": {
      "text/plain": [
       "17"
      ]
     },
     "execution_count": 1,
     "metadata": {},
     "output_type": "execute_result"
    }
   ],
   "source": [
    "# This a simple arithmetic expression to mutiply then add integers\n",
    "product_sum = (3*4)+5\n",
    "product_sum"
   ]
  },
  {
   "cell_type": "code",
   "execution_count": 2,
   "id": "39aa131b-5642-4fbf-af4f-c3659819cb5f",
   "metadata": {
    "tags": []
   },
   "outputs": [
    {
     "data": {
      "text/plain": [
       "3.3333333333333335"
      ]
     },
     "execution_count": 2,
     "metadata": {},
     "output_type": "execute_result"
    }
   ],
   "source": [
    "#  This will convert 200 minutes to hours by diving by 60\n",
    "hours = 200/60\n",
    "hours"
   ]
  },
  {
   "cell_type": "markdown",
   "id": "328b3a23-bb80-4ffe-98dd-f945daf231dd",
   "metadata": {},
   "source": [
    "## Author\n",
    "\n",
    "Segatlane Prudence Lesolo\n"
   ]
  }
 ],
 "metadata": {
  "kernelspec": {
   "display_name": "Python",
   "language": "python",
   "name": "conda-env-python-py"
  },
  "language_info": {
   "codemirror_mode": {
    "name": "ipython",
    "version": 3
   },
   "file_extension": ".py",
   "mimetype": "text/x-python",
   "name": "python",
   "nbconvert_exporter": "python",
   "pygments_lexer": "ipython3",
   "version": "3.7.12"
  }
 },
 "nbformat": 4,
 "nbformat_minor": 5
}
